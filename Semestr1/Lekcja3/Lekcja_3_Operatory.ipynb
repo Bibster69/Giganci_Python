{
  "cells": [
    {
      "cell_type": "markdown",
      "metadata": {
        "colab_type": "text",
        "id": "view-in-github"
      },
      "source": [
        "<a href=\"https://colab.research.google.com/github/Bibster69/Giganci_Python/blob/main/Semestr1/Lekcja2/Operatory.ipynb\" target=\"_parent\"><img src=\"https://colab.research.google.com/assets/colab-badge.svg\" alt=\"Open In Colab\"/></a>"
      ]
    },
    {
      "cell_type": "markdown",
      "metadata": {
        "id": "x1SsL6VB7zei"
      },
      "source": [
        "# **Operatory Matematyczne**"
      ]
    },
    {
      "cell_type": "code",
      "execution_count": null,
      "metadata": {
        "id": "jQnx7WvQ7zel",
        "outputId": "35164ff6-ba7a-4b00-a03a-6a620464df5b"
      },
      "outputs": [
        {
          "name": "stdout",
          "output_type": "stream",
          "text": [
            "10 8\n"
          ]
        }
      ],
      "source": [
        "x, y = 10, 8\n",
        "\n",
        "print(x, y)"
      ]
    },
    {
      "cell_type": "code",
      "execution_count": null,
      "metadata": {
        "id": "qNSoY2xB7zen",
        "outputId": "83b32e83-096c-4b1f-a487-d0f8a4d59e01"
      },
      "outputs": [
        {
          "name": "stdout",
          "output_type": "stream",
          "text": [
            "Wynik dodawania 10 - 8 = 18\n",
            "Wynik odejmowania 10 - 8 = 2\n",
            "Wynik negacji 10 i 8 = -10 , -8\n",
            "Wynik odejmowania 10 * 8 = 80\n",
            "Wynik dzielenia 10 / 8 = 1.25\n",
            "Wynik modulo 10 % 8 = 2\n",
            "Wynik dzielenia całkowitego 10 // 8 = 1\n",
            "Wynik potęgowania 10 ** 8 = 100000000\n"
          ]
        }
      ],
      "source": [
        "#Dodoawanie\n",
        "print(f'Wynik dodawania {x} - {y} = {x + y}')\n",
        "\n",
        "#Odejmowanie\n",
        "print(f'Wynik odejmowania {x} - {y} = {x - y}')\n",
        "\n",
        "#Negacja\n",
        "print(f'Wynik negacji {x} i {y} = {-x} , {-y}')\n",
        "\n",
        "#Mnożenie\n",
        "print(f'Wynik odejmowania {x} * {y} = {x * y}')\n",
        "\n",
        "\"\"\"\n",
        "Dzielenie, operator dzielenia zawsze zwraca wartość typu float\n",
        "\"\"\"\n",
        "print(f'Wynik dzielenia {x} / {y} = {x / y}')\n",
        "\n",
        "#Modulo, czyli reszta z dzielenia\n",
        "print(f'Wynik modulo {x} % {y} = {x % y}')\n",
        "\n",
        "#Dzielenie całkowite, zwraca liczbę zaokrągloną w dół, tym razem typu int\n",
        "print(f'Wynik dzielenia całkowitego {x} // {y} = {x // y}')\n",
        "\n",
        "#Potegowanie\n",
        "print(f'Wynik potęgowania {x} ** {y} = {x ** y}')"
      ]
    },
    {
      "cell_type": "markdown",
      "metadata": {
        "id": "uiOqh46V7zen"
      },
      "source": [
        "# **Skrócone Operatory**"
      ]
    },
    {
      "cell_type": "code",
      "execution_count": null,
      "metadata": {
        "id": "3RSmjCX47zeo",
        "outputId": "9babf906-3bb0-427d-b90a-b0caea576af6"
      },
      "outputs": [
        {
          "name": "stdout",
          "output_type": "stream",
          "text": [
            "6\n",
            "8\n",
            "0 8\n",
            "16\n",
            "4.0\n",
            "1.0\n",
            "2.0\n",
            "4.0\n"
          ]
        }
      ],
      "source": [
        "x, y = 6, 8\n",
        "print(x)\n",
        "x += 2\n",
        "print(x)\n",
        "x -= y\n",
        "print(x, y)\n",
        "y *= 2\n",
        "print(y)\n",
        "y /= 4\n",
        "print(y)\n",
        "y %= 3\n",
        "print(y)\n",
        "y //= 0.4\n",
        "print(y)\n",
        "y **= 2\n",
        "print(y)"
      ]
    },
    {
      "cell_type": "markdown",
      "metadata": {
        "id": "Juwe8ntB7zeo"
      },
      "source": [
        "Standardowo obowiązuje normalna kolejność wykonywania działań ale można wykorzystywać nawiasy w oczywisty sposób"
      ]
    },
    {
      "cell_type": "code",
      "execution_count": null,
      "metadata": {
        "id": "GtCJdCWt7zep",
        "outputId": "486ace50-10a1-4822-863b-fea22bdbeec6"
      },
      "outputs": [
        {
          "name": "stdout",
          "output_type": "stream",
          "text": [
            "490.0 262.0\n"
          ]
        }
      ],
      "source": [
        "normalna_kolejnosc = 100 / 5 * 25 - 12 + 2\n",
        "nie_normalna_kolejnosc = (100 / 5) * (25 - 12) + 2\n",
        "\n",
        "print(normalna_kolejnosc, nie_normalna_kolejnosc)"
      ]
    },
    {
      "cell_type": "markdown",
      "metadata": {
        "id": "3NxEWMXI7zep"
      },
      "source": [
        "Wartoścu typu bool to tak naprawde wartości 1 dla **True** i 0 dla **False**"
      ]
    },
    {
      "cell_type": "code",
      "execution_count": null,
      "metadata": {
        "id": "5nVY6OMZ7zep",
        "outputId": "93d4e397-92ff-4287-ad0d-de8fa2b3003e"
      },
      "outputs": [
        {
          "name": "stdout",
          "output_type": "stream",
          "text": [
            "2\n",
            "1\n",
            "0\n",
            "3\n"
          ]
        }
      ],
      "source": [
        "print(True + True)\n",
        "print(False + True)\n",
        "print(False + False)\n",
        "print(3*True)"
      ]
    },
    {
      "cell_type": "markdown",
      "metadata": {
        "id": "CC0cTyIZ7zeq"
      },
      "source": [
        "Niektóre operatory działają można używać na Stringach"
      ]
    },
    {
      "cell_type": "code",
      "execution_count": null,
      "metadata": {
        "id": "FMuwW-Ak7zeq",
        "outputId": "e52b9ca9-ec4a-45ac-bbf3-2e566e5f6e37"
      },
      "outputs": [
        {
          "name": "stdout",
          "output_type": "stream",
          "text": [
            "Wyraz nr.1\n",
            "\tWyraz nr.2\n",
            "test test test test test test test test test test \n",
            "\n",
            "\n",
            "\n",
            "Wyraz nr.1\n",
            "\tWyraz nr.2\n",
            "test\n",
            "\ttest\n"
          ]
        }
      ],
      "source": [
        "str1 = 'Wyraz nr.1'\n",
        "str2 = '\\n\\t'\n",
        "str3 = 'Wyraz nr.2'\n",
        "\n",
        "str123 = str1 + str2 + str3\n",
        "print(str123)\n",
        "\n",
        "print(('test ' * 10))\n",
        "print('\\n\\n')\n",
        "\n",
        "str123 += '\\ntest\\n\\ttest'\n",
        "print(str123)"
      ]
    },
    {
      "cell_type": "markdown",
      "metadata": {
        "id": "pNW-IeBi7zeq"
      },
      "source": [
        "# **Funkcje wbudowane**\n",
        "python posiada wiele funkji wbudowanych lecz te bardziej ciekawe znajdują sie w pakiecie math,"
      ]
    },
    {
      "cell_type": "code",
      "execution_count": null,
      "metadata": {
        "id": "z2oAjrU07zer",
        "outputId": "bdff482d-3e86-4f95-ddfc-107ffe3145f0"
      },
      "outputs": [
        {
          "name": "stdout",
          "output_type": "stream",
          "text": [
            "100\n",
            "43\n",
            "-4\n",
            "4\n",
            "4\n"
          ]
        }
      ],
      "source": [
        "print(abs(-100)) # Wartość bezwzgledna, czyli zawsze nieujemna\n",
        "print(max(1, 4, 3, 6, 12, 43, 11)) # zwraca najmniejszą wartość, z tego co podamy w argumencie\n",
        "print(min(1, -4, 3, 6, 12, 43, 11)) # wartość najmniejsza\n",
        "print(round(3.5564)) # zaokrąglenie, od .5 do w górę\n",
        "print(len('test')) # zwraca dłygość stringa (lczbe charów)"
      ]
    },
    {
      "cell_type": "markdown",
      "metadata": {
        "id": "-q6EwZae7zes"
      },
      "source": [
        "# **Zad dodatkowe**\n",
        "(mniej obowiązkowe)"
      ]
    },
    {
      "cell_type": "markdown",
      "metadata": {
        "id": "jqyMifOi7zes"
      },
      "source": [
        "1.\n",
        "Chcę dostać pole trójkąta obliczonego na podstawie podanego przez użytkownika a i h"
      ]
    },
    {
      "cell_type": "code",
      "execution_count": null,
      "metadata": {
        "id": "chdm160a7zes"
      },
      "outputs": [],
      "source": []
    },
    {
      "cell_type": "markdown",
      "metadata": {
        "id": "rqGU_Nzs7zes"
      },
      "source": [
        "2.\n",
        "Chcę dostać pole trójkąta obliczonego na podstawie podanych przez użytkownika długości boków a, b, c"
      ]
    },
    {
      "cell_type": "code",
      "execution_count": null,
      "metadata": {
        "id": "QHF1CPM57zes"
      },
      "outputs": [],
      "source": []
    },
    {
      "cell_type": "markdown",
      "metadata": {
        "id": "92nEvPiR7zes"
      },
      "source": [
        "3.\n",
        "Chcę dostać pole okręgu o promieniu r podanym przeż użytkownika. Odpowiedź ma być stringiem postaci np. '6.73 pi'"
      ]
    },
    {
      "cell_type": "code",
      "execution_count": null,
      "metadata": {
        "id": "9M_GO_y37zes"
      },
      "outputs": [],
      "source": []
    },
    {
      "cell_type": "markdown",
      "metadata": {
        "id": "-Uo251bs7zes"
      },
      "source": [
        "4.\n",
        "Chcę dostać długość odcinka na podstawie współżędnych punktów A (x<sub>A</sub>, y<sub>A</sub>) i B (x<sub>B</sub>, y<sub>B</sub>) podanych przez użytkownika"
      ]
    },
    {
      "cell_type": "code",
      "execution_count": null,
      "metadata": {
        "id": "yZBFH5sM7zet",
        "outputId": "4d95b096-b75d-4e88-f033-ab3fac2f7d49"
      },
      "outputs": [
        {
          "data": {
            "text/plain": [
              "''"
            ]
          },
          "execution_count": 40,
          "metadata": {},
          "output_type": "execute_result"
        }
      ],
      "source": [
        "\"\"\"\n",
        "Hint:\n",
        "x_A, y_A = input('Podaj wsp. x punktu A')......\n",
        "\"\"\""
      ]
    },
    {
      "cell_type": "markdown",
      "metadata": {
        "id": "X6BziJFM7zet"
      },
      "source": [
        "5.\n",
        "Chcę dostać pole trójkąta na podstawie współżędnych punktów A (x<sub>A</sub>, y<sub>A</sub>), B (x<sub>B</sub>, y<sub>B</sub>) i C (x<sub>C</sub>, y<sub>C</sub>) podanych przez użytkownika"
      ]
    },
    {
      "cell_type": "code",
      "execution_count": null,
      "metadata": {
        "id": "p0RdxzQG7zet"
      },
      "outputs": [],
      "source": []
    }
  ],
  "metadata": {
    "colab": {
      "include_colab_link": true,
      "provenance": []
    },
    "kernelspec": {
      "display_name": "MLdirectML",
      "language": "python",
      "name": "python3"
    },
    "language_info": {
      "codemirror_mode": {
        "name": "ipython",
        "version": 3
      },
      "file_extension": ".py",
      "mimetype": "text/x-python",
      "name": "python",
      "nbconvert_exporter": "python",
      "pygments_lexer": "ipython3",
      "version": "3.10.8"
    }
  },
  "nbformat": 4,
  "nbformat_minor": 0
}
